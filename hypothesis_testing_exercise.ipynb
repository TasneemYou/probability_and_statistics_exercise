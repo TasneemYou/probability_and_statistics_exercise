{
 "cells": [
  {
   "cell_type": "markdown",
   "metadata": {},
   "source": [
    "## Hypothesis Testing Assignment"
   ]
  },
  {
   "cell_type": "code",
   "execution_count": 1,
   "metadata": {},
   "outputs": [],
   "source": [
    "#Importing necessary packages\n",
    "import pandas as pd\n",
    "import numpy as np\n",
    "# package with hypothesis tests\n",
    "import scipy.stats as st"
   ]
  },
  {
   "cell_type": "markdown",
   "metadata": {},
   "source": [
    "### Data"
   ]
  },
  {
   "cell_type": "markdown",
   "metadata": {},
   "source": [
    "You can download the data from [**here**](https://drive.google.com/file/d/0Bz9_0VdXvv9bUUNlUTVrMF9VcVU/view?usp=sharing&resourcekey=0-16O9Fc5eaJH99-M7AHqHOg). The data contains results of all NBA games from seasons 2013/2014 to 2015/2016."
   ]
  },
  {
   "cell_type": "code",
   "execution_count": 106,
   "metadata": {},
   "outputs": [],
   "source": [
    "nba_df = pd.read_csv('nba_games_2013_2015.csv', sep = ';')"
   ]
  },
  {
   "cell_type": "code",
   "execution_count": 5,
   "metadata": {},
   "outputs": [
    {
     "data": {
      "text/html": [
       "<div>\n",
       "<style scoped>\n",
       "    .dataframe tbody tr th:only-of-type {\n",
       "        vertical-align: middle;\n",
       "    }\n",
       "\n",
       "    .dataframe tbody tr th {\n",
       "        vertical-align: top;\n",
       "    }\n",
       "\n",
       "    .dataframe thead th {\n",
       "        text-align: right;\n",
       "    }\n",
       "</style>\n",
       "<table border=\"1\" class=\"dataframe\">\n",
       "  <thead>\n",
       "    <tr style=\"text-align: right;\">\n",
       "      <th></th>\n",
       "      <th>SEASON_ID</th>\n",
       "      <th>TEAM_ID</th>\n",
       "      <th>GAME_ID</th>\n",
       "      <th>MIN</th>\n",
       "      <th>PTS</th>\n",
       "      <th>FGM</th>\n",
       "      <th>FGA</th>\n",
       "      <th>FG_PCT</th>\n",
       "      <th>FG3M</th>\n",
       "      <th>FG3A</th>\n",
       "      <th>...</th>\n",
       "      <th>FT_PCT</th>\n",
       "      <th>OREB</th>\n",
       "      <th>DREB</th>\n",
       "      <th>REB</th>\n",
       "      <th>AST</th>\n",
       "      <th>STL</th>\n",
       "      <th>BLK</th>\n",
       "      <th>TOV</th>\n",
       "      <th>PF</th>\n",
       "      <th>PLUS_MINUS</th>\n",
       "    </tr>\n",
       "  </thead>\n",
       "  <tbody>\n",
       "    <tr>\n",
       "      <th>count</th>\n",
       "      <td>7380.000000</td>\n",
       "      <td>7.380000e+03</td>\n",
       "      <td>7.380000e+03</td>\n",
       "      <td>7380.000000</td>\n",
       "      <td>7380.000000</td>\n",
       "      <td>7380.000000</td>\n",
       "      <td>7380.000000</td>\n",
       "      <td>7380.000000</td>\n",
       "      <td>7380.000000</td>\n",
       "      <td>7380.000000</td>\n",
       "      <td>...</td>\n",
       "      <td>7380.000000</td>\n",
       "      <td>7380.000000</td>\n",
       "      <td>7380.00000</td>\n",
       "      <td>7380.000000</td>\n",
       "      <td>7380.000000</td>\n",
       "      <td>7380.000000</td>\n",
       "      <td>7380.000000</td>\n",
       "      <td>7380.000000</td>\n",
       "      <td>7380.000000</td>\n",
       "      <td>7380.000000</td>\n",
       "    </tr>\n",
       "    <tr>\n",
       "      <th>mean</th>\n",
       "      <td>22014.000000</td>\n",
       "      <td>1.610613e+09</td>\n",
       "      <td>2.140062e+07</td>\n",
       "      <td>241.966125</td>\n",
       "      <td>101.231572</td>\n",
       "      <td>37.822629</td>\n",
       "      <td>83.711518</td>\n",
       "      <td>0.453055</td>\n",
       "      <td>8.036179</td>\n",
       "      <td>22.676423</td>\n",
       "      <td>...</td>\n",
       "      <td>0.755706</td>\n",
       "      <td>10.738618</td>\n",
       "      <td>32.52832</td>\n",
       "      <td>43.266938</td>\n",
       "      <td>22.108943</td>\n",
       "      <td>7.754607</td>\n",
       "      <td>4.821680</td>\n",
       "      <td>13.851897</td>\n",
       "      <td>20.393631</td>\n",
       "      <td>0.001165</td>\n",
       "    </tr>\n",
       "    <tr>\n",
       "      <th>std</th>\n",
       "      <td>0.816552</td>\n",
       "      <td>8.656028e+00</td>\n",
       "      <td>8.165596e+04</td>\n",
       "      <td>8.027611</td>\n",
       "      <td>11.835419</td>\n",
       "      <td>4.926769</td>\n",
       "      <td>7.274056</td>\n",
       "      <td>0.055228</td>\n",
       "      <td>3.336593</td>\n",
       "      <td>6.471358</td>\n",
       "      <td>...</td>\n",
       "      <td>0.104762</td>\n",
       "      <td>3.895066</td>\n",
       "      <td>5.27831</td>\n",
       "      <td>6.507891</td>\n",
       "      <td>4.990035</td>\n",
       "      <td>2.978320</td>\n",
       "      <td>2.565878</td>\n",
       "      <td>3.914646</td>\n",
       "      <td>4.413225</td>\n",
       "      <td>13.598099</td>\n",
       "    </tr>\n",
       "    <tr>\n",
       "      <th>min</th>\n",
       "      <td>22013.000000</td>\n",
       "      <td>1.610613e+09</td>\n",
       "      <td>2.130000e+07</td>\n",
       "      <td>237.000000</td>\n",
       "      <td>65.000000</td>\n",
       "      <td>19.000000</td>\n",
       "      <td>60.000000</td>\n",
       "      <td>0.270000</td>\n",
       "      <td>0.000000</td>\n",
       "      <td>4.000000</td>\n",
       "      <td>...</td>\n",
       "      <td>0.167000</td>\n",
       "      <td>1.000000</td>\n",
       "      <td>12.00000</td>\n",
       "      <td>17.000000</td>\n",
       "      <td>6.000000</td>\n",
       "      <td>0.000000</td>\n",
       "      <td>0.000000</td>\n",
       "      <td>3.000000</td>\n",
       "      <td>7.000000</td>\n",
       "      <td>-53.000000</td>\n",
       "    </tr>\n",
       "    <tr>\n",
       "      <th>25%</th>\n",
       "      <td>22013.000000</td>\n",
       "      <td>1.610613e+09</td>\n",
       "      <td>2.130092e+07</td>\n",
       "      <td>240.000000</td>\n",
       "      <td>93.000000</td>\n",
       "      <td>34.000000</td>\n",
       "      <td>79.000000</td>\n",
       "      <td>0.415750</td>\n",
       "      <td>6.000000</td>\n",
       "      <td>18.000000</td>\n",
       "      <td>...</td>\n",
       "      <td>0.692000</td>\n",
       "      <td>8.000000</td>\n",
       "      <td>29.00000</td>\n",
       "      <td>39.000000</td>\n",
       "      <td>19.000000</td>\n",
       "      <td>6.000000</td>\n",
       "      <td>3.000000</td>\n",
       "      <td>11.000000</td>\n",
       "      <td>17.000000</td>\n",
       "      <td>-9.000000</td>\n",
       "    </tr>\n",
       "    <tr>\n",
       "      <th>50%</th>\n",
       "      <td>22014.000000</td>\n",
       "      <td>1.610613e+09</td>\n",
       "      <td>2.140062e+07</td>\n",
       "      <td>240.000000</td>\n",
       "      <td>101.000000</td>\n",
       "      <td>38.000000</td>\n",
       "      <td>83.000000</td>\n",
       "      <td>0.452000</td>\n",
       "      <td>8.000000</td>\n",
       "      <td>22.000000</td>\n",
       "      <td>...</td>\n",
       "      <td>0.762000</td>\n",
       "      <td>10.000000</td>\n",
       "      <td>32.00000</td>\n",
       "      <td>43.000000</td>\n",
       "      <td>22.000000</td>\n",
       "      <td>8.000000</td>\n",
       "      <td>4.000000</td>\n",
       "      <td>14.000000</td>\n",
       "      <td>20.000000</td>\n",
       "      <td>0.000000</td>\n",
       "    </tr>\n",
       "    <tr>\n",
       "      <th>75%</th>\n",
       "      <td>22015.000000</td>\n",
       "      <td>1.610613e+09</td>\n",
       "      <td>2.150031e+07</td>\n",
       "      <td>241.000000</td>\n",
       "      <td>109.000000</td>\n",
       "      <td>41.000000</td>\n",
       "      <td>88.000000</td>\n",
       "      <td>0.489000</td>\n",
       "      <td>10.000000</td>\n",
       "      <td>27.000000</td>\n",
       "      <td>...</td>\n",
       "      <td>0.829000</td>\n",
       "      <td>13.000000</td>\n",
       "      <td>36.00000</td>\n",
       "      <td>48.000000</td>\n",
       "      <td>25.000000</td>\n",
       "      <td>10.000000</td>\n",
       "      <td>6.000000</td>\n",
       "      <td>16.000000</td>\n",
       "      <td>23.000000</td>\n",
       "      <td>9.000000</td>\n",
       "    </tr>\n",
       "    <tr>\n",
       "      <th>max</th>\n",
       "      <td>22015.000000</td>\n",
       "      <td>1.610613e+09</td>\n",
       "      <td>2.150123e+07</td>\n",
       "      <td>340.000000</td>\n",
       "      <td>147.000000</td>\n",
       "      <td>57.000000</td>\n",
       "      <td>129.000000</td>\n",
       "      <td>0.684000</td>\n",
       "      <td>22.000000</td>\n",
       "      <td>47.000000</td>\n",
       "      <td>...</td>\n",
       "      <td>1.000000</td>\n",
       "      <td>38.000000</td>\n",
       "      <td>55.00000</td>\n",
       "      <td>81.000000</td>\n",
       "      <td>42.000000</td>\n",
       "      <td>21.000000</td>\n",
       "      <td>18.000000</td>\n",
       "      <td>29.000000</td>\n",
       "      <td>41.000000</td>\n",
       "      <td>53.000000</td>\n",
       "    </tr>\n",
       "  </tbody>\n",
       "</table>\n",
       "<p>8 rows × 23 columns</p>\n",
       "</div>"
      ],
      "text/plain": [
       "          SEASON_ID       TEAM_ID       GAME_ID          MIN          PTS  \\\n",
       "count   7380.000000  7.380000e+03  7.380000e+03  7380.000000  7380.000000   \n",
       "mean   22014.000000  1.610613e+09  2.140062e+07   241.966125   101.231572   \n",
       "std        0.816552  8.656028e+00  8.165596e+04     8.027611    11.835419   \n",
       "min    22013.000000  1.610613e+09  2.130000e+07   237.000000    65.000000   \n",
       "25%    22013.000000  1.610613e+09  2.130092e+07   240.000000    93.000000   \n",
       "50%    22014.000000  1.610613e+09  2.140062e+07   240.000000   101.000000   \n",
       "75%    22015.000000  1.610613e+09  2.150031e+07   241.000000   109.000000   \n",
       "max    22015.000000  1.610613e+09  2.150123e+07   340.000000   147.000000   \n",
       "\n",
       "               FGM          FGA       FG_PCT         FG3M         FG3A  ...  \\\n",
       "count  7380.000000  7380.000000  7380.000000  7380.000000  7380.000000  ...   \n",
       "mean     37.822629    83.711518     0.453055     8.036179    22.676423  ...   \n",
       "std       4.926769     7.274056     0.055228     3.336593     6.471358  ...   \n",
       "min      19.000000    60.000000     0.270000     0.000000     4.000000  ...   \n",
       "25%      34.000000    79.000000     0.415750     6.000000    18.000000  ...   \n",
       "50%      38.000000    83.000000     0.452000     8.000000    22.000000  ...   \n",
       "75%      41.000000    88.000000     0.489000    10.000000    27.000000  ...   \n",
       "max      57.000000   129.000000     0.684000    22.000000    47.000000  ...   \n",
       "\n",
       "            FT_PCT         OREB        DREB          REB          AST  \\\n",
       "count  7380.000000  7380.000000  7380.00000  7380.000000  7380.000000   \n",
       "mean      0.755706    10.738618    32.52832    43.266938    22.108943   \n",
       "std       0.104762     3.895066     5.27831     6.507891     4.990035   \n",
       "min       0.167000     1.000000    12.00000    17.000000     6.000000   \n",
       "25%       0.692000     8.000000    29.00000    39.000000    19.000000   \n",
       "50%       0.762000    10.000000    32.00000    43.000000    22.000000   \n",
       "75%       0.829000    13.000000    36.00000    48.000000    25.000000   \n",
       "max       1.000000    38.000000    55.00000    81.000000    42.000000   \n",
       "\n",
       "               STL          BLK          TOV           PF   PLUS_MINUS  \n",
       "count  7380.000000  7380.000000  7380.000000  7380.000000  7380.000000  \n",
       "mean      7.754607     4.821680    13.851897    20.393631     0.001165  \n",
       "std       2.978320     2.565878     3.914646     4.413225    13.598099  \n",
       "min       0.000000     0.000000     3.000000     7.000000   -53.000000  \n",
       "25%       6.000000     3.000000    11.000000    17.000000    -9.000000  \n",
       "50%       8.000000     4.000000    14.000000    20.000000     0.000000  \n",
       "75%      10.000000     6.000000    16.000000    23.000000     9.000000  \n",
       "max      21.000000    18.000000    29.000000    41.000000    53.000000  \n",
       "\n",
       "[8 rows x 23 columns]"
      ]
     },
     "execution_count": 5,
     "metadata": {},
     "output_type": "execute_result"
    }
   ],
   "source": [
    "nba_df.describe()"
   ]
  },
  {
   "cell_type": "code",
   "execution_count": 6,
   "metadata": {},
   "outputs": [
    {
     "data": {
      "text/plain": [
       "7380"
      ]
     },
     "execution_count": 6,
     "metadata": {},
     "output_type": "execute_result"
    }
   ],
   "source": [
    "nba_df.shape[0]"
   ]
  },
  {
   "cell_type": "markdown",
   "metadata": {},
   "source": [
    "--------------\n",
    "### Task 1\n",
    "Split the data into **3** separate dataframes for each NBA season!"
   ]
  },
  {
   "cell_type": "code",
   "execution_count": 9,
   "metadata": {},
   "outputs": [
    {
     "data": {
      "text/plain": [
       "22013    2460\n",
       "22015    2460\n",
       "22014    2460\n",
       "Name: SEASON_ID, dtype: int64"
      ]
     },
     "execution_count": 9,
     "metadata": {},
     "output_type": "execute_result"
    }
   ],
   "source": [
    "nba_df['SEASON_ID'].value_counts()"
   ]
  },
  {
   "cell_type": "code",
   "execution_count": 107,
   "metadata": {},
   "outputs": [],
   "source": [
    "nba_df2013 = nba_df[nba_df['SEASON_ID'] == 22013]"
   ]
  },
  {
   "cell_type": "code",
   "execution_count": 108,
   "metadata": {},
   "outputs": [],
   "source": [
    "nba_df2014 = nba_df[nba_df['SEASON_ID'] == 22014]"
   ]
  },
  {
   "cell_type": "code",
   "execution_count": 109,
   "metadata": {},
   "outputs": [],
   "source": [
    "nba_df2015 = nba_df[nba_df['SEASON_ID'] == 22015]"
   ]
  },
  {
   "cell_type": "markdown",
   "metadata": {
    "tags": []
   },
   "source": [
    "---------------\n",
    "### Task 2\n",
    "Test the hypothesis that the offensive productions stats of the Cleveland Cavaliers and Golden State Warriors (the teams that met in the finals that year) were from the same distribution in the 2015/2016 season.\n",
    "\n",
    "Offensive production refers to two variables: **PTS (Points)** and **FG_PCT (Field Goal Percentage)**. We will need to do two separate hypothesis tests, one for each variable."
   ]
  },
  {
   "cell_type": "markdown",
   "metadata": {},
   "source": [
    "### 1st hypothesis test\n",
    "#### H0: mean(CLE) = mean(GSW), \n",
    "#### Ha: mean(CLE) != mean(GSW)\n",
    "Performing a one- way t-test to find out if the PTS from both teams are from the same distribution:"
   ]
  },
  {
   "cell_type": "code",
   "execution_count": 14,
   "metadata": {},
   "outputs": [
    {
     "data": {
      "text/plain": [
       "Index(['SEASON_ID', 'TEAM_ID', 'TEAM_ABBREVIATION', 'TEAM_NAME', 'GAME_ID',\n",
       "       'GAME_DATE', 'MATCHUP', 'WL', 'MIN', 'PTS', 'FGM', 'FGA', 'FG_PCT',\n",
       "       'FG3M', 'FG3A', 'FG3_PCT', 'FTM', 'FTA', 'FT_PCT', 'OREB', 'DREB',\n",
       "       'REB', 'AST', 'STL', 'BLK', 'TOV', 'PF', 'PLUS_MINUS'],\n",
       "      dtype='object')"
      ]
     },
     "execution_count": 14,
     "metadata": {},
     "output_type": "execute_result"
    }
   ],
   "source": [
    "nba_df.columns"
   ]
  },
  {
   "cell_type": "code",
   "execution_count": 17,
   "metadata": {},
   "outputs": [
    {
     "data": {
      "text/plain": [
       "array([144,  92,  98, 101, 110,  81, 105, 109, 103,  96, 125, 115,  88,\n",
       "       104, 117,  91, 116, 107, 114,  99,  97, 112, 122,  90,  93, 102,\n",
       "        84, 129,  79, 111, 100, 121,  94, 120, 130,  89,  86, 113, 108,\n",
       "       118, 106, 124,  87,  95, 123,  80, 136,  78, 119,  85, 139,  82,\n",
       "        75, 133, 132, 128,  69, 131,  83,  77, 126,  76, 137, 134,  73,\n",
       "       127, 140,  74, 142, 147,  68,  70, 135,  71, 138, 143,  72,  66,\n",
       "        65, 145,  67], dtype=int64)"
      ]
     },
     "execution_count": 17,
     "metadata": {},
     "output_type": "execute_result"
    }
   ],
   "source": [
    "nba_df['PTS'].unique()"
   ]
  },
  {
   "cell_type": "code",
   "execution_count": 18,
   "metadata": {},
   "outputs": [
    {
     "data": {
      "text/plain": [
       "array([1610612750, 1610612749, 1610612738, 1610612747, 1610612739,\n",
       "       1610612758, 1610612746, 1610612764, 1610612737, 1610612761,\n",
       "       1610612740, 1610612753, 1610612762, 1610612744, 1610612741,\n",
       "       1610612748, 1610612763, 1610612759, 1610612766, 1610612751,\n",
       "       1610612742, 1610612745, 1610612755, 1610612757, 1610612756,\n",
       "       1610612743, 1610612754, 1610612765, 1610612752, 1610612760],\n",
       "      dtype=int64)"
      ]
     },
     "execution_count": 18,
     "metadata": {},
     "output_type": "execute_result"
    }
   ],
   "source": [
    "nba_df['TEAM_ID'].unique()"
   ]
  },
  {
   "cell_type": "code",
   "execution_count": 19,
   "metadata": {},
   "outputs": [
    {
     "data": {
      "text/plain": [
       "array(['MIN', 'MIL', 'BOS', 'LAL', 'CLE', 'SAC', 'LAC', 'WAS', 'ATL',\n",
       "       'TOR', 'NOP', 'ORL', 'UTA', 'GSW', 'CHI', 'MIA', 'MEM', 'SAS',\n",
       "       'CHA', 'BKN', 'DAL', 'HOU', 'PHI', 'POR', 'PHX', 'DEN', 'IND',\n",
       "       'DET', 'NYK', 'OKC'], dtype=object)"
      ]
     },
     "execution_count": 19,
     "metadata": {},
     "output_type": "execute_result"
    }
   ],
   "source": [
    "nba_df['TEAM_ABBREVIATION'].unique()"
   ]
  },
  {
   "cell_type": "code",
   "execution_count": 40,
   "metadata": {},
   "outputs": [],
   "source": [
    "CLA_PTS_df = nba_df2015['PTS'][nba_df2015['TEAM_ABBREVIATION'] =='CLE']"
   ]
  },
  {
   "cell_type": "code",
   "execution_count": 41,
   "metadata": {},
   "outputs": [],
   "source": [
    "GSW_PTS_df = nba_df2015['PTS'][nba_df2015['TEAM_ABBREVIATION'] =='GSW']"
   ]
  },
  {
   "cell_type": "code",
   "execution_count": 42,
   "metadata": {},
   "outputs": [
    {
     "data": {
      "text/plain": [
       "Ttest_indResult(statistic=-5.973920595717936, pvalue=1.4233420547764935e-08)"
      ]
     },
     "execution_count": 42,
     "metadata": {},
     "output_type": "execute_result"
    }
   ],
   "source": [
    "st.ttest_ind(CLA_PTS_df, GSW_PTS_df)"
   ]
  },
  {
   "cell_type": "markdown",
   "metadata": {},
   "source": [
    "Since, the p-value is very small and close to 1, it implies that the null hypothesis is rejected and the PTS of both teams are not from the same distribution."
   ]
  },
  {
   "cell_type": "code",
   "execution_count": 46,
   "metadata": {},
   "outputs": [
    {
     "data": {
      "text/plain": [
       "array([0.651, 0.425, 0.43 , 0.482, 0.474, 0.333, 0.448, 0.477, 0.395,\n",
       "       0.441, 0.435, 0.462, 0.47 , 0.529, 0.432, 0.429, 0.473, 0.547,\n",
       "       0.438, 0.403, 0.485, 0.457, 0.455, 0.426, 0.433, 0.505, 0.45 ,\n",
       "       0.487, 0.405, 0.513, 0.402, 0.407, 0.506, 0.444, 0.558, 0.284,\n",
       "       0.458, 0.526, 0.449, 0.382, 0.571, 0.41 , 0.517, 0.488, 0.494,\n",
       "       0.51 , 0.36 , 0.378, 0.346, 0.4  , 0.525, 0.406, 0.46 , 0.385,\n",
       "       0.446, 0.456, 0.442, 0.5  , 0.411, 0.434, 0.481, 0.523, 0.518,\n",
       "       0.479, 0.352, 0.465, 0.439, 0.544, 0.532, 0.424, 0.524, 0.468,\n",
       "       0.564, 0.42 , 0.568, 0.381, 0.542, 0.478, 0.413, 0.453, 0.467,\n",
       "       0.436, 0.414, 0.512, 0.563, 0.356, 0.313, 0.471, 0.398, 0.451,\n",
       "       0.364, 0.37 , 0.447, 0.463, 0.344, 0.386, 0.461, 0.527, 0.388,\n",
       "       0.408, 0.423, 0.553, 0.421, 0.466, 0.519, 0.383, 0.437, 0.459,\n",
       "       0.528, 0.535, 0.367, 0.443, 0.387, 0.533, 0.419, 0.372, 0.452,\n",
       "       0.412, 0.48 , 0.345, 0.363, 0.483, 0.56 , 0.44 , 0.615, 0.379,\n",
       "       0.416, 0.306, 0.475, 0.348, 0.514, 0.427, 0.409, 0.377, 0.404,\n",
       "       0.622, 0.394, 0.53 , 0.418, 0.554, 0.417, 0.539, 0.545, 0.534,\n",
       "       0.415, 0.531, 0.489, 0.538, 0.536, 0.391, 0.476, 0.551, 0.493,\n",
       "       0.422, 0.393, 0.548, 0.565, 0.341, 0.49 , 0.396, 0.566, 0.464,\n",
       "       0.522, 0.543, 0.537, 0.595, 0.58 , 0.59 , 0.376, 0.567, 0.297,\n",
       "       0.541, 0.469, 0.557, 0.374, 0.347, 0.516, 0.371, 0.484, 0.561,\n",
       "       0.349, 0.354, 0.521, 0.684, 0.507, 0.54 , 0.397, 0.384, 0.675,\n",
       "       0.375, 0.593, 0.573, 0.368, 0.57 , 0.577, 0.511, 0.602, 0.495,\n",
       "       0.353, 0.55 , 0.38 , 0.366, 0.312, 0.389, 0.325, 0.39 , 0.575,\n",
       "       0.365, 0.606, 0.338, 0.549, 0.359, 0.556, 0.486, 0.585, 0.358,\n",
       "       0.362, 0.351, 0.52 , 0.454, 0.369, 0.472, 0.361, 0.326, 0.373,\n",
       "       0.357, 0.605, 0.319, 0.552, 0.355, 0.609, 0.584, 0.35 , 0.578,\n",
       "       0.316, 0.6  , 0.392, 0.562, 0.322, 0.569, 0.594, 0.618, 0.431,\n",
       "       0.337, 0.329, 0.321, 0.586, 0.33 , 0.343, 0.271, 0.515, 0.305,\n",
       "       0.302])"
      ]
     },
     "execution_count": 46,
     "metadata": {},
     "output_type": "execute_result"
    }
   ],
   "source": [
    "nba_df2015['FG_PCT'].unique()"
   ]
  },
  {
   "cell_type": "code",
   "execution_count": 44,
   "metadata": {},
   "outputs": [],
   "source": [
    "CLE_FG_PCT = nba_df2015['FG_PCT'][nba_df2015['TEAM_ABBREVIATION'] =='CLE']"
   ]
  },
  {
   "cell_type": "code",
   "execution_count": 45,
   "metadata": {},
   "outputs": [],
   "source": [
    "GSW_FG_PCT = nba_df2015['FG_PCT'][nba_df2015['TEAM_ABBREVIATION'] =='GSW']"
   ]
  },
  {
   "cell_type": "code",
   "execution_count": 47,
   "metadata": {},
   "outputs": [
    {
     "data": {
      "text/plain": [
       "Ttest_indResult(statistic=-3.13195297595825, pvalue=0.00206097581047554)"
      ]
     },
     "execution_count": 47,
     "metadata": {},
     "output_type": "execute_result"
    }
   ],
   "source": [
    "st.ttest_ind(CLE_FG_PCT, GSW_FG_PCT)"
   ]
  },
  {
   "cell_type": "markdown",
   "metadata": {},
   "source": [
    "Again, the null hypothesis is rejected based on the evidence that p-value is even less than 0.01 (that defines the confindence interval of 99%). **Implying that the offensive production stats are not from the same distribution.**"
   ]
  },
  {
   "cell_type": "markdown",
   "metadata": {},
   "source": [
    "-----------------\n",
    "### Task 3\n",
    "Test the hypothesis that the number of points (PTS) scored by Cleveland Cavaliers changed significantly after the head coach changed in the 2015/2016 season.\n",
    "\n",
    "- **Coach Blatt was fired on 24th of Jan, 2016**. \n",
    "\n",
    "Use the data from seasons 2014/2015 and 2015/2016 - those are years when Cleveland was coached by Blatt. \n",
    "\n",
    "**We have two possible solutions to try here:**\n",
    "- Take the same amount of games from before and after and try t-test.\n",
    "- Take all the games from before and after and look for the right test to compare two samples with different sizes. (You will need to go through the scipy documentation or google to figure out what kind of test is required.)"
   ]
  },
  {
   "cell_type": "markdown",
   "metadata": {},
   "source": [
    "#### H0: Number of points did not change after the head coach changed.\n",
    "#### Ha: Number of points significantly improved after the head coach changed => mean(aftercoach)>mean(beforecoach)"
   ]
  },
  {
   "cell_type": "code",
   "execution_count": 48,
   "metadata": {},
   "outputs": [
    {
     "data": {
      "text/html": [
       "<div>\n",
       "<style scoped>\n",
       "    .dataframe tbody tr th:only-of-type {\n",
       "        vertical-align: middle;\n",
       "    }\n",
       "\n",
       "    .dataframe tbody tr th {\n",
       "        vertical-align: top;\n",
       "    }\n",
       "\n",
       "    .dataframe thead th {\n",
       "        text-align: right;\n",
       "    }\n",
       "</style>\n",
       "<table border=\"1\" class=\"dataframe\">\n",
       "  <thead>\n",
       "    <tr style=\"text-align: right;\">\n",
       "      <th></th>\n",
       "      <th>SEASON_ID</th>\n",
       "      <th>TEAM_ID</th>\n",
       "      <th>TEAM_ABBREVIATION</th>\n",
       "      <th>TEAM_NAME</th>\n",
       "      <th>GAME_ID</th>\n",
       "      <th>GAME_DATE</th>\n",
       "      <th>MATCHUP</th>\n",
       "      <th>WL</th>\n",
       "      <th>MIN</th>\n",
       "      <th>PTS</th>\n",
       "      <th>...</th>\n",
       "      <th>FT_PCT</th>\n",
       "      <th>OREB</th>\n",
       "      <th>DREB</th>\n",
       "      <th>REB</th>\n",
       "      <th>AST</th>\n",
       "      <th>STL</th>\n",
       "      <th>BLK</th>\n",
       "      <th>TOV</th>\n",
       "      <th>PF</th>\n",
       "      <th>PLUS_MINUS</th>\n",
       "    </tr>\n",
       "  </thead>\n",
       "  <tbody>\n",
       "    <tr>\n",
       "      <th>0</th>\n",
       "      <td>22015</td>\n",
       "      <td>1610612750</td>\n",
       "      <td>MIN</td>\n",
       "      <td>Minnesota Timberwolves</td>\n",
       "      <td>21501226</td>\n",
       "      <td>2016-04-13</td>\n",
       "      <td>MIN vs. NOP</td>\n",
       "      <td>W</td>\n",
       "      <td>240</td>\n",
       "      <td>144</td>\n",
       "      <td>...</td>\n",
       "      <td>0.826</td>\n",
       "      <td>5</td>\n",
       "      <td>38</td>\n",
       "      <td>43</td>\n",
       "      <td>41</td>\n",
       "      <td>14</td>\n",
       "      <td>8</td>\n",
       "      <td>13</td>\n",
       "      <td>20</td>\n",
       "      <td>35.0</td>\n",
       "    </tr>\n",
       "    <tr>\n",
       "      <th>1</th>\n",
       "      <td>22015</td>\n",
       "      <td>1610612749</td>\n",
       "      <td>MIL</td>\n",
       "      <td>Milwaukee Bucks</td>\n",
       "      <td>21501225</td>\n",
       "      <td>2016-04-13</td>\n",
       "      <td>MIL vs. IND</td>\n",
       "      <td>L</td>\n",
       "      <td>240</td>\n",
       "      <td>92</td>\n",
       "      <td>...</td>\n",
       "      <td>0.846</td>\n",
       "      <td>7</td>\n",
       "      <td>36</td>\n",
       "      <td>43</td>\n",
       "      <td>23</td>\n",
       "      <td>8</td>\n",
       "      <td>3</td>\n",
       "      <td>15</td>\n",
       "      <td>15</td>\n",
       "      <td>-5.0</td>\n",
       "    </tr>\n",
       "  </tbody>\n",
       "</table>\n",
       "<p>2 rows × 28 columns</p>\n",
       "</div>"
      ],
      "text/plain": [
       "   SEASON_ID     TEAM_ID TEAM_ABBREVIATION               TEAM_NAME   GAME_ID  \\\n",
       "0      22015  1610612750               MIN  Minnesota Timberwolves  21501226   \n",
       "1      22015  1610612749               MIL         Milwaukee Bucks  21501225   \n",
       "\n",
       "    GAME_DATE      MATCHUP WL  MIN  PTS  ...  FT_PCT  OREB  DREB  REB  AST  \\\n",
       "0  2016-04-13  MIN vs. NOP  W  240  144  ...   0.826     5    38   43   41   \n",
       "1  2016-04-13  MIL vs. IND  L  240   92  ...   0.846     7    36   43   23   \n",
       "\n",
       "   STL  BLK  TOV  PF  PLUS_MINUS  \n",
       "0   14    8   13  20        35.0  \n",
       "1    8    3   15  15        -5.0  \n",
       "\n",
       "[2 rows x 28 columns]"
      ]
     },
     "execution_count": 48,
     "metadata": {},
     "output_type": "execute_result"
    }
   ],
   "source": [
    "nba_df.head(2)"
   ]
  },
  {
   "cell_type": "code",
   "execution_count": 50,
   "metadata": {},
   "outputs": [
    {
     "data": {
      "text/plain": [
       "2014-04-16    30\n",
       "2016-04-13    28\n",
       "2014-04-04    28\n",
       "2013-10-30    28\n",
       "2016-02-19    28\n",
       "              ..\n",
       "2013-10-31     4\n",
       "2015-02-12     2\n",
       "2015-03-26     2\n",
       "2015-04-06     2\n",
       "2014-02-02     2\n",
       "Name: GAME_DATE, Length: 486, dtype: int64"
      ]
     },
     "execution_count": 50,
     "metadata": {},
     "output_type": "execute_result"
    }
   ],
   "source": [
    "nba_df['GAME_DATE'].value_counts()"
   ]
  },
  {
   "cell_type": "code",
   "execution_count": 81,
   "metadata": {},
   "outputs": [],
   "source": [
    "nba_2seasons=pd.concat([nba_df2014, nba_df2015])"
   ]
  },
  {
   "cell_type": "code",
   "execution_count": 82,
   "metadata": {},
   "outputs": [],
   "source": [
    "nba_2seasons['GAME_DATE']=pd.to_datetime(nba_2seasons['GAME_DATE'],format=\"%Y-%m-%d\")"
   ]
  },
  {
   "cell_type": "code",
   "execution_count": 58,
   "metadata": {},
   "outputs": [],
   "source": [
    "from datetime import timedelta, datetime"
   ]
  },
  {
   "cell_type": "code",
   "execution_count": 86,
   "metadata": {},
   "outputs": [],
   "source": [
    "aftercoach=nba_2seasons['PTS'][(nba_2seasons['GAME_DATE'] > datetime.strptime('2016-01-24',\"%Y-%m-%d\")) & (nba_2seasons['TEAM_ABBREVIATION'] == 'CLE')]"
   ]
  },
  {
   "cell_type": "code",
   "execution_count": 97,
   "metadata": {},
   "outputs": [],
   "source": [
    "beforecoach=nba_2seasons['PTS'][(nba_2seasons['GAME_DATE'] < datetime.strptime('2016-01-24',\"%Y-%m-%d\")) & (nba_2seasons['TEAM_ABBREVIATION'] == 'CLE')]"
   ]
  },
  {
   "cell_type": "code",
   "execution_count": 98,
   "metadata": {},
   "outputs": [
    {
     "data": {
      "text/plain": [
       "(40, 124)"
      ]
     },
     "execution_count": 98,
     "metadata": {},
     "output_type": "execute_result"
    }
   ],
   "source": [
    "aftercoach.shape[0],beforecoach.shape[0]"
   ]
  },
  {
   "cell_type": "code",
   "execution_count": 90,
   "metadata": {},
   "outputs": [],
   "source": [
    "beforecoach=beforecoach.sample(40,random_state=3)"
   ]
  },
  {
   "cell_type": "code",
   "execution_count": 91,
   "metadata": {},
   "outputs": [
    {
     "data": {
      "text/plain": [
       "(40, 40)"
      ]
     },
     "execution_count": 91,
     "metadata": {},
     "output_type": "execute_result"
    }
   ],
   "source": [
    "aftercoach.shape[0],beforecoach.shape[0]"
   ]
  },
  {
   "cell_type": "code",
   "execution_count": 96,
   "metadata": {},
   "outputs": [
    {
     "data": {
      "text/plain": [
       "Ttest_indResult(statistic=2.298263770106656, pvalue=0.012112999479960624)"
      ]
     },
     "execution_count": 96,
     "metadata": {},
     "output_type": "execute_result"
    }
   ],
   "source": [
    "st.ttest_ind(aftercoach, beforecoach, alternative='greater')"
   ]
  },
  {
   "cell_type": "markdown",
   "metadata": {},
   "source": [
    "The above p-value indicates a strong evidence against null hypothesis, thereby we can say that the scores of Cleveland improved after the coach was fired"
   ]
  },
  {
   "cell_type": "markdown",
   "metadata": {},
   "source": [
    "Option2: To take both samples (different sizes)"
   ]
  },
  {
   "cell_type": "code",
   "execution_count": 99,
   "metadata": {},
   "outputs": [
    {
     "data": {
      "text/plain": [
       "KstestResult(statistic=0.0717741935483871, pvalue=0.6930386757940216)"
      ]
     },
     "execution_count": 99,
     "metadata": {},
     "output_type": "execute_result"
    }
   ],
   "source": [
    "st.ks_2samp(aftercoach,beforecoach,alternative='greater')"
   ]
  },
  {
   "cell_type": "markdown",
   "metadata": {},
   "source": [
    "Since, the p-value is greater than 0.5 (with a confidence interval of 95%), there is little or no evidence against null hypothesis when complete data is considered from both games."
   ]
  },
  {
   "cell_type": "markdown",
   "metadata": {},
   "source": [
    "----------------\n",
    "\n",
    "\n",
    "### Task 4\n",
    "Download [**the similar dataset**](https://drive.google.com/file/d/0Bz9_0VdXvv9bRHhuRTI1aXBQcTA/view?usp=sharing&resourcekey=0-jGIaWyk0bXyECNSzB3x38w) with scores from playoff games in 2016."
   ]
  },
  {
   "cell_type": "code",
   "execution_count": 100,
   "metadata": {},
   "outputs": [],
   "source": [
    "nba_2016df=pd.read_csv('nba_playoff_games_2016.csv',sep=';')"
   ]
  },
  {
   "cell_type": "markdown",
   "metadata": {},
   "source": [
    "------------\n",
    "### Task 5\n",
    "Test the hypothesis that **number of blocks (BLK)** are from the same distribution in both the NBA playoffs and in the NBA regular season for 2015/2016 seaon for the **Toronto Raptors**. \n",
    "\n",
    "- We will be working with two samples with different sizes again."
   ]
  },
  {
   "cell_type": "code",
   "execution_count": 101,
   "metadata": {},
   "outputs": [
    {
     "data": {
      "text/html": [
       "<div>\n",
       "<style scoped>\n",
       "    .dataframe tbody tr th:only-of-type {\n",
       "        vertical-align: middle;\n",
       "    }\n",
       "\n",
       "    .dataframe tbody tr th {\n",
       "        vertical-align: top;\n",
       "    }\n",
       "\n",
       "    .dataframe thead th {\n",
       "        text-align: right;\n",
       "    }\n",
       "</style>\n",
       "<table border=\"1\" class=\"dataframe\">\n",
       "  <thead>\n",
       "    <tr style=\"text-align: right;\">\n",
       "      <th></th>\n",
       "      <th>SEASON_ID</th>\n",
       "      <th>TEAM_ID</th>\n",
       "      <th>TEAM_ABBREVIATION</th>\n",
       "      <th>TEAM_NAME</th>\n",
       "      <th>GAME_ID</th>\n",
       "      <th>GAME_DATE</th>\n",
       "      <th>MATCHUP</th>\n",
       "      <th>WL</th>\n",
       "      <th>MIN</th>\n",
       "      <th>PTS</th>\n",
       "      <th>...</th>\n",
       "      <th>FT_PCT</th>\n",
       "      <th>OREB</th>\n",
       "      <th>DREB</th>\n",
       "      <th>REB</th>\n",
       "      <th>AST</th>\n",
       "      <th>STL</th>\n",
       "      <th>BLK</th>\n",
       "      <th>TOV</th>\n",
       "      <th>PF</th>\n",
       "      <th>PLUS_MINUS</th>\n",
       "    </tr>\n",
       "  </thead>\n",
       "  <tbody>\n",
       "    <tr>\n",
       "      <th>0</th>\n",
       "      <td>42015</td>\n",
       "      <td>1610612739</td>\n",
       "      <td>CLE</td>\n",
       "      <td>Cleveland Cavaliers</td>\n",
       "      <td>41500407</td>\n",
       "      <td>2016-06-19</td>\n",
       "      <td>CLE @ GSW</td>\n",
       "      <td>W</td>\n",
       "      <td>241</td>\n",
       "      <td>93</td>\n",
       "      <td>...</td>\n",
       "      <td>0.840</td>\n",
       "      <td>9</td>\n",
       "      <td>39</td>\n",
       "      <td>48</td>\n",
       "      <td>17</td>\n",
       "      <td>7</td>\n",
       "      <td>6</td>\n",
       "      <td>11</td>\n",
       "      <td>15</td>\n",
       "      <td>4.0</td>\n",
       "    </tr>\n",
       "    <tr>\n",
       "      <th>1</th>\n",
       "      <td>42015</td>\n",
       "      <td>1610612744</td>\n",
       "      <td>GSW</td>\n",
       "      <td>Golden State Warriors</td>\n",
       "      <td>41500407</td>\n",
       "      <td>2016-06-19</td>\n",
       "      <td>GSW vs. CLE</td>\n",
       "      <td>L</td>\n",
       "      <td>239</td>\n",
       "      <td>89</td>\n",
       "      <td>...</td>\n",
       "      <td>0.769</td>\n",
       "      <td>7</td>\n",
       "      <td>32</td>\n",
       "      <td>39</td>\n",
       "      <td>22</td>\n",
       "      <td>7</td>\n",
       "      <td>5</td>\n",
       "      <td>10</td>\n",
       "      <td>23</td>\n",
       "      <td>-4.0</td>\n",
       "    </tr>\n",
       "    <tr>\n",
       "      <th>2</th>\n",
       "      <td>42015</td>\n",
       "      <td>1610612744</td>\n",
       "      <td>GSW</td>\n",
       "      <td>Golden State Warriors</td>\n",
       "      <td>41500406</td>\n",
       "      <td>2016-06-16</td>\n",
       "      <td>GSW @ CLE</td>\n",
       "      <td>L</td>\n",
       "      <td>238</td>\n",
       "      <td>101</td>\n",
       "      <td>...</td>\n",
       "      <td>0.690</td>\n",
       "      <td>9</td>\n",
       "      <td>26</td>\n",
       "      <td>35</td>\n",
       "      <td>19</td>\n",
       "      <td>5</td>\n",
       "      <td>3</td>\n",
       "      <td>14</td>\n",
       "      <td>25</td>\n",
       "      <td>-14.0</td>\n",
       "    </tr>\n",
       "    <tr>\n",
       "      <th>3</th>\n",
       "      <td>42015</td>\n",
       "      <td>1610612739</td>\n",
       "      <td>CLE</td>\n",
       "      <td>Cleveland Cavaliers</td>\n",
       "      <td>41500406</td>\n",
       "      <td>2016-06-16</td>\n",
       "      <td>CLE vs. GSW</td>\n",
       "      <td>W</td>\n",
       "      <td>240</td>\n",
       "      <td>115</td>\n",
       "      <td>...</td>\n",
       "      <td>0.781</td>\n",
       "      <td>8</td>\n",
       "      <td>37</td>\n",
       "      <td>45</td>\n",
       "      <td>24</td>\n",
       "      <td>12</td>\n",
       "      <td>7</td>\n",
       "      <td>10</td>\n",
       "      <td>25</td>\n",
       "      <td>14.0</td>\n",
       "    </tr>\n",
       "    <tr>\n",
       "      <th>4</th>\n",
       "      <td>42015</td>\n",
       "      <td>1610612739</td>\n",
       "      <td>CLE</td>\n",
       "      <td>Cleveland Cavaliers</td>\n",
       "      <td>41500405</td>\n",
       "      <td>2016-06-13</td>\n",
       "      <td>CLE @ GSW</td>\n",
       "      <td>W</td>\n",
       "      <td>241</td>\n",
       "      <td>112</td>\n",
       "      <td>...</td>\n",
       "      <td>0.609</td>\n",
       "      <td>8</td>\n",
       "      <td>33</td>\n",
       "      <td>41</td>\n",
       "      <td>15</td>\n",
       "      <td>11</td>\n",
       "      <td>9</td>\n",
       "      <td>16</td>\n",
       "      <td>22</td>\n",
       "      <td>15.0</td>\n",
       "    </tr>\n",
       "  </tbody>\n",
       "</table>\n",
       "<p>5 rows × 28 columns</p>\n",
       "</div>"
      ],
      "text/plain": [
       "   SEASON_ID     TEAM_ID TEAM_ABBREVIATION              TEAM_NAME   GAME_ID  \\\n",
       "0      42015  1610612739               CLE    Cleveland Cavaliers  41500407   \n",
       "1      42015  1610612744               GSW  Golden State Warriors  41500407   \n",
       "2      42015  1610612744               GSW  Golden State Warriors  41500406   \n",
       "3      42015  1610612739               CLE    Cleveland Cavaliers  41500406   \n",
       "4      42015  1610612739               CLE    Cleveland Cavaliers  41500405   \n",
       "\n",
       "    GAME_DATE      MATCHUP WL  MIN  PTS  ...  FT_PCT  OREB  DREB  REB  AST  \\\n",
       "0  2016-06-19    CLE @ GSW  W  241   93  ...   0.840     9    39   48   17   \n",
       "1  2016-06-19  GSW vs. CLE  L  239   89  ...   0.769     7    32   39   22   \n",
       "2  2016-06-16    GSW @ CLE  L  238  101  ...   0.690     9    26   35   19   \n",
       "3  2016-06-16  CLE vs. GSW  W  240  115  ...   0.781     8    37   45   24   \n",
       "4  2016-06-13    CLE @ GSW  W  241  112  ...   0.609     8    33   41   15   \n",
       "\n",
       "   STL  BLK  TOV  PF  PLUS_MINUS  \n",
       "0    7    6   11  15         4.0  \n",
       "1    7    5   10  23        -4.0  \n",
       "2    5    3   14  25       -14.0  \n",
       "3   12    7   10  25        14.0  \n",
       "4   11    9   16  22        15.0  \n",
       "\n",
       "[5 rows x 28 columns]"
      ]
     },
     "execution_count": 101,
     "metadata": {},
     "output_type": "execute_result"
    }
   ],
   "source": [
    "nba_2016df.head()"
   ]
  },
  {
   "cell_type": "code",
   "execution_count": 104,
   "metadata": {},
   "outputs": [
    {
     "data": {
      "text/plain": [
       "(172, 28)"
      ]
     },
     "execution_count": 104,
     "metadata": {},
     "output_type": "execute_result"
    }
   ],
   "source": [
    "nba_2016df.shape"
   ]
  },
  {
   "cell_type": "code",
   "execution_count": 103,
   "metadata": {},
   "outputs": [
    {
     "data": {
      "text/plain": [
       "42015    172\n",
       "Name: SEASON_ID, dtype: int64"
      ]
     },
     "execution_count": 103,
     "metadata": {},
     "output_type": "execute_result"
    }
   ],
   "source": [
    "nba_2016df.SEASON_ID.value_counts()"
   ]
  },
  {
   "cell_type": "markdown",
   "metadata": {},
   "source": [
    "\n",
    "-----------------\n",
    "### Task 6\n",
    "Test the hypothesis that the number of points (PTS) scored by Cleveland Cavaliers is equally distributed for all 3 seasons. \n",
    "\n",
    "- In this case, we need a hypothesis test that compares more than 2 distributions at the same. (You will need to go through the scipy documentation or google to figure out what kind of test is required.)"
   ]
  },
  {
   "cell_type": "code",
   "execution_count": 110,
   "metadata": {},
   "outputs": [],
   "source": [
    "pts2013=nba_df2013['PTS'][nba_df2013['TEAM_ABBREVIATION']==\"CLE\"]"
   ]
  },
  {
   "cell_type": "code",
   "execution_count": 111,
   "metadata": {},
   "outputs": [],
   "source": [
    "pts2014=nba_df2014['PTS'][nba_df2014['TEAM_ABBREVIATION']==\"CLE\"]"
   ]
  },
  {
   "cell_type": "code",
   "execution_count": 112,
   "metadata": {},
   "outputs": [],
   "source": [
    "pts2015=nba_df2015['PTS'][nba_df2015['TEAM_ABBREVIATION']==\"CLE\"]"
   ]
  },
  {
   "cell_type": "code",
   "execution_count": 113,
   "metadata": {},
   "outputs": [
    {
     "data": {
      "text/plain": [
       "F_onewayResult(statistic=5.9200250318080885, pvalue=0.003087727119983984)"
      ]
     },
     "execution_count": 113,
     "metadata": {},
     "output_type": "execute_result"
    }
   ],
   "source": [
    "st.f_oneway(pts2013,pts2014,pts2015)"
   ]
  },
  {
   "cell_type": "code",
   "execution_count": 115,
   "metadata": {},
   "outputs": [
    {
     "data": {
      "text/plain": [
       "(12.388788629633082, 12.694669042624803, 11.002867054027869)"
      ]
     },
     "execution_count": 115,
     "metadata": {},
     "output_type": "execute_result"
    }
   ],
   "source": [
    "pts2013.std(), pts2014.std(), pts2015.std()"
   ]
  },
  {
   "cell_type": "markdown",
   "metadata": {},
   "source": [
    "comparing the largest and smallest variance to see if it falls within 0.5 to 2 to check if anova test is valid.\n"
   ]
  },
  {
   "cell_type": "code",
   "execution_count": 116,
   "metadata": {},
   "outputs": [
    {
     "data": {
      "text/plain": [
       "1.1537601045518049"
      ]
     },
     "execution_count": 116,
     "metadata": {},
     "output_type": "execute_result"
    }
   ],
   "source": [
    "12.694669042624803/11.002867054027869"
   ]
  },
  {
   "cell_type": "markdown",
   "metadata": {},
   "source": [
    "Since, p-value is less than 0.01 it means that there is very strong evidence against null hypothesis that the PTS scored by CLEs are not equally distributed across all 3 seasons."
   ]
  },
  {
   "cell_type": "markdown",
   "metadata": {},
   "source": [
    "#### Follow Up\n",
    "**Between which seasons can we see the significant difference?**\n",
    "\n",
    "+ Unfortunatelly, this is not the output of an ANOVA test and further tests are needed to be run.\n",
    "+ Note: Lebron James came back to the Cleveland Caveliers prior to season 2014/2015. We can use this fact to interpret our results correctly."
   ]
  },
  {
   "cell_type": "code",
   "execution_count": 119,
   "metadata": {},
   "outputs": [
    {
     "name": "stdout",
     "output_type": "stream",
     "text": [
      "Collecting scikit-posthocs\n",
      "  Downloading scikit-posthocs-0.6.7.tar.gz (43 kB)\n",
      "  Installing build dependencies: started\n",
      "  Installing build dependencies: finished with status 'done'\n",
      "  Getting requirements to build wheel: started\n",
      "  Getting requirements to build wheel: finished with status 'done'\n",
      "    Preparing wheel metadata: started\n",
      "    Preparing wheel metadata: finished with status 'done'\n",
      "Requirement already satisfied: seaborn in c:\\users\\user\\anaconda3\\lib\\site-packages (from scikit-posthocs) (0.11.2)\n",
      "Requirement already satisfied: numpy in c:\\users\\user\\anaconda3\\lib\\site-packages (from scikit-posthocs) (1.21.4)\n",
      "Requirement already satisfied: matplotlib in c:\\users\\user\\anaconda3\\lib\\site-packages (from scikit-posthocs) (3.4.3)\n",
      "Requirement already satisfied: scipy in c:\\users\\user\\anaconda3\\lib\\site-packages (from scikit-posthocs) (1.7.1)\n",
      "Requirement already satisfied: pandas>=0.20.0 in c:\\users\\user\\anaconda3\\lib\\site-packages (from scikit-posthocs) (1.0.1)\n",
      "Requirement already satisfied: statsmodels in c:\\users\\user\\anaconda3\\lib\\site-packages (from scikit-posthocs) (0.13.0)\n",
      "Requirement already satisfied: python-dateutil>=2.6.1 in c:\\users\\user\\anaconda3\\lib\\site-packages (from pandas>=0.20.0->scikit-posthocs) (2.8.2)\n",
      "Requirement already satisfied: pytz>=2017.2 in c:\\users\\user\\anaconda3\\lib\\site-packages (from pandas>=0.20.0->scikit-posthocs) (2021.3)\n",
      "Requirement already satisfied: six>=1.5 in c:\\users\\user\\anaconda3\\lib\\site-packages (from python-dateutil>=2.6.1->pandas>=0.20.0->scikit-posthocs) (1.16.0)\n",
      "Requirement already satisfied: pyparsing>=2.2.1 in c:\\users\\user\\anaconda3\\lib\\site-packages (from matplotlib->scikit-posthocs) (2.4.7)\n",
      "Requirement already satisfied: cycler>=0.10 in c:\\users\\user\\anaconda3\\lib\\site-packages (from matplotlib->scikit-posthocs) (0.10.0)\n",
      "Requirement already satisfied: pillow>=6.2.0 in c:\\users\\user\\anaconda3\\lib\\site-packages (from matplotlib->scikit-posthocs) (8.4.0)\n",
      "Requirement already satisfied: kiwisolver>=1.0.1 in c:\\users\\user\\anaconda3\\lib\\site-packages (from matplotlib->scikit-posthocs) (1.3.1)\n",
      "Requirement already satisfied: patsy>=0.5.2 in c:\\users\\user\\anaconda3\\lib\\site-packages (from statsmodels->scikit-posthocs) (0.5.2)\n",
      "Building wheels for collected packages: scikit-posthocs\n",
      "  Building wheel for scikit-posthocs (PEP 517): started\n",
      "  Building wheel for scikit-posthocs (PEP 517): finished with status 'done'\n",
      "  Created wheel for scikit-posthocs: filename=scikit_posthocs-0.6.7-py3-none-any.whl size=37902 sha256=3979b905e9a4cd061024a64760c80c5d484ecefa669510535eac695a3476e14c\n",
      "  Stored in directory: c:\\users\\user\\appdata\\local\\pip\\cache\\wheels\\59\\a1\\76\\8954a8efb2e143534be5943de94a245c673b25b9ce71c3aab3\n",
      "Successfully built scikit-posthocs\n",
      "Installing collected packages: scikit-posthocs\n",
      "Successfully installed scikit-posthocs-0.6.7\n"
     ]
    }
   ],
   "source": [
    "!pip install scikit-posthocs"
   ]
  },
  {
   "cell_type": "code",
   "execution_count": 121,
   "metadata": {},
   "outputs": [],
   "source": [
    "import scikit_posthocs as sp"
   ]
  },
  {
   "cell_type": "code",
   "execution_count": 125,
   "metadata": {},
   "outputs": [],
   "source": [
    "cle = nba_df[nba_df['TEAM_ABBREVIATION']=='CLE']"
   ]
  },
  {
   "cell_type": "code",
   "execution_count": 137,
   "metadata": {},
   "outputs": [
    {
     "data": {
      "text/plain": [
       "Index(['SEASON_ID', 'TEAM_ID', 'TEAM_ABBREVIATION', 'TEAM_NAME', 'GAME_ID',\n",
       "       'GAME_DATE', 'MATCHUP', 'WL', 'MIN', 'PTS', 'FGM', 'FGA', 'FG_PCT',\n",
       "       'FG3M', 'FG3A', 'FG3_PCT', 'FTM', 'FTA', 'FT_PCT', 'OREB', 'DREB',\n",
       "       'REB', 'AST', 'STL', 'BLK', 'TOV', 'PF', 'PLUS_MINUS'],\n",
       "      dtype='object')"
      ]
     },
     "execution_count": 137,
     "metadata": {},
     "output_type": "execute_result"
    }
   ],
   "source": [
    "cle.columns"
   ]
  },
  {
   "cell_type": "code",
   "execution_count": 138,
   "metadata": {},
   "outputs": [
    {
     "data": {
      "text/plain": [
       "4       22015\n",
       "40      22015\n",
       "78      22015\n",
       "127     22015\n",
       "151     22015\n",
       "        ...  \n",
       "7248    22013\n",
       "7282    22013\n",
       "7303    22013\n",
       "7316    22013\n",
       "7355    22013\n",
       "Name: SEASON_ID, Length: 246, dtype: object"
      ]
     },
     "execution_count": 138,
     "metadata": {},
     "output_type": "execute_result"
    }
   ],
   "source": [
    "cle['SEASON_ID']"
   ]
  },
  {
   "cell_type": "code",
   "execution_count": null,
   "metadata": {},
   "outputs": [],
   "source": []
  },
  {
   "cell_type": "code",
   "execution_count": 141,
   "metadata": {},
   "outputs": [],
   "source": [
    "res=sp.posthoc_ttest(cle,'PTS','SEASON_ID')"
   ]
  },
  {
   "cell_type": "code",
   "execution_count": 142,
   "metadata": {},
   "outputs": [
    {
     "data": {
      "text/html": [
       "<div>\n",
       "<style scoped>\n",
       "    .dataframe tbody tr th:only-of-type {\n",
       "        vertical-align: middle;\n",
       "    }\n",
       "\n",
       "    .dataframe tbody tr th {\n",
       "        vertical-align: top;\n",
       "    }\n",
       "\n",
       "    .dataframe thead th {\n",
       "        text-align: right;\n",
       "    }\n",
       "</style>\n",
       "<table border=\"1\" class=\"dataframe\">\n",
       "  <thead>\n",
       "    <tr style=\"text-align: right;\">\n",
       "      <th></th>\n",
       "      <th>22015</th>\n",
       "      <th>22014</th>\n",
       "      <th>22013</th>\n",
       "    </tr>\n",
       "  </thead>\n",
       "  <tbody>\n",
       "    <tr>\n",
       "      <th>22015</th>\n",
       "      <td>1.000000</td>\n",
       "      <td>0.520351</td>\n",
       "      <td>0.001043</td>\n",
       "    </tr>\n",
       "    <tr>\n",
       "      <th>22014</th>\n",
       "      <td>0.520351</td>\n",
       "      <td>1.000000</td>\n",
       "      <td>0.013092</td>\n",
       "    </tr>\n",
       "    <tr>\n",
       "      <th>22013</th>\n",
       "      <td>0.001043</td>\n",
       "      <td>0.013092</td>\n",
       "      <td>1.000000</td>\n",
       "    </tr>\n",
       "  </tbody>\n",
       "</table>\n",
       "</div>"
      ],
      "text/plain": [
       "          22015     22014     22013\n",
       "22015  1.000000  0.520351  0.001043\n",
       "22014  0.520351  1.000000  0.013092\n",
       "22013  0.001043  0.013092  1.000000"
      ]
     },
     "execution_count": 142,
     "metadata": {},
     "output_type": "execute_result"
    }
   ],
   "source": [
    "res"
   ]
  },
  {
   "cell_type": "markdown",
   "metadata": {},
   "source": [
    "Lebron James came back to the Cleveland Caveliers prior to season 2014/2015. Also, very significant difference between the group means from seasons 2013 and 2015 is present as compared to difference between seasons 2013 and 2014 and 2014 and 2015"
   ]
  }
 ],
 "metadata": {
  "kernelspec": {
   "display_name": "Python 3 (ipykernel)",
   "language": "python",
   "name": "python3"
  },
  "language_info": {
   "codemirror_mode": {
    "name": "ipython",
    "version": 3
   },
   "file_extension": ".py",
   "mimetype": "text/x-python",
   "name": "python",
   "nbconvert_exporter": "python",
   "pygments_lexer": "ipython3",
   "version": "3.8.12"
  }
 },
 "nbformat": 4,
 "nbformat_minor": 4
}
